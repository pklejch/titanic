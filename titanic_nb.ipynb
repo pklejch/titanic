{
 "cells": [
  {
   "cell_type": "markdown",
   "metadata": {},
   "source": [
    "Instalace závislostí"
   ]
  },
  {
   "cell_type": "code",
   "execution_count": 74,
   "metadata": {
    "collapsed": false,
    "scrolled": false
   },
   "outputs": [
    {
     "name": "stdout",
     "output_type": "stream",
     "text": [
      "\u001b[33mYou are using pip version 6.1.1, however version 9.0.1 is available.\n",
      "You should consider upgrading via the 'pip install --upgrade pip' command.\u001b[0m\n",
      "Collecting pip\n",
      "  Using cached pip-9.0.1-py2.py3-none-any.whl\n",
      "Installing collected packages: pip\n",
      "  Found existing installation: pip 6.1.1\n",
      "    Not uninstalling pip at /usr/local/lib/python3.4/dist-packages, outside environment /home/petr/PYT/titanic/env\n",
      "Successfully installed pip-6.1.1\n",
      "\u001b[33mYou are using pip version 6.1.1, however version 9.0.1 is available.\n",
      "You should consider upgrading via the 'pip install --upgrade pip' command.\u001b[0m\n",
      "Requirement already satisfied (use --upgrade to upgrade): pandas in ./env/lib/python3.5/site-packages\n",
      "Requirement already satisfied (use --upgrade to upgrade): matplotlib in ./env/lib/python3.5/site-packages\n",
      "Requirement already satisfied (use --upgrade to upgrade): python-dateutil>=2 in ./env/lib/python3.5/site-packages (from pandas)\n",
      "Requirement already satisfied (use --upgrade to upgrade): pytz>=2011k in ./env/lib/python3.5/site-packages (from pandas)\n",
      "Requirement already satisfied (use --upgrade to upgrade): numpy>=1.7.0 in ./env/lib/python3.5/site-packages (from pandas)\n",
      "Requirement already satisfied (use --upgrade to upgrade): cycler in ./env/lib/python3.5/site-packages (from matplotlib)\n",
      "Requirement already satisfied (use --upgrade to upgrade): pyparsing!=2.0.4,!=2.1.2,>=1.5.6 in ./env/lib/python3.5/site-packages (from matplotlib)\n",
      "Requirement already satisfied (use --upgrade to upgrade): six>=1.5 in /usr/local/lib/python3.4/dist-packages (from python-dateutil>=2->pandas)\n"
     ]
    }
   ],
   "source": [
    "! python -m pip install --upgrade pip\n",
    "! python -m pip install pandas matplotlib"
   ]
  },
  {
   "cell_type": "code",
   "execution_count": 75,
   "metadata": {
    "collapsed": true
   },
   "outputs": [],
   "source": [
    "import pandas\n",
    "import matplotlib\n",
    "import matplotlib.style\n",
    "matplotlib.style.use('ggplot')\n",
    "\n",
    "# Zapnout zobrazování grafů (procento uvozuje „magickou” zkratku IPythonu):\n",
    "%matplotlib inline"
   ]
  },
  {
   "cell_type": "code",
   "execution_count": 76,
   "metadata": {
    "collapsed": false,
    "scrolled": true
   },
   "outputs": [],
   "source": [
    "passengers=pandas.DataFrame.from_csv('titanic.csv', index_col=None)\n",
    "del passengers['Unnamed: 0']\n",
    "#passengers"
   ]
  },
  {
   "cell_type": "markdown",
   "metadata": {},
   "source": [
    "O kolika pasažérech Titanicu víme?"
   ]
  },
  {
   "cell_type": "code",
   "execution_count": 77,
   "metadata": {
    "collapsed": false
   },
   "outputs": [
    {
     "data": {
      "text/plain": [
       "1313"
      ]
     },
     "execution_count": 77,
     "metadata": {},
     "output_type": "execute_result"
    }
   ],
   "source": [
    "count=len(passengers)\n",
    "count"
   ]
  },
  {
   "cell_type": "markdown",
   "metadata": {},
   "source": [
    "Kolik procent jich přežilo?"
   ]
  },
  {
   "cell_type": "code",
   "execution_count": 78,
   "metadata": {
    "collapsed": false
   },
   "outputs": [
    {
     "data": {
      "text/plain": [
       "34.27265803503427"
      ]
     },
     "execution_count": 78,
     "metadata": {},
     "output_type": "execute_result"
    }
   ],
   "source": [
    "survivors=passengers.loc[passengers['Survived'] == 1]\n",
    "survivorsCount=len(survivors)\n",
    "survivorsPerc=survivorsCount/count*100\n",
    "survivorsPerc"
   ]
  },
  {
   "cell_type": "markdown",
   "metadata": {},
   "source": [
    "Kolik procent žen přežilo?"
   ]
  },
  {
   "cell_type": "code",
   "execution_count": 79,
   "metadata": {
    "collapsed": false
   },
   "outputs": [
    {
     "data": {
      "text/plain": [
       "66.66666666666666"
      ]
     },
     "execution_count": 79,
     "metadata": {},
     "output_type": "execute_result"
    }
   ],
   "source": [
    "women = passengers.loc[passengers['Sex'] == \"female\"]\n",
    "womenCount = len(women)\n",
    "survivedWomenCount = len(women.loc[women['Survived'] == 1])\n",
    "survivedWomenCount/womenCount*100"
   ]
  },
  {
   "cell_type": "markdown",
   "metadata": {},
   "source": [
    "Kolik procent mužů?"
   ]
  },
  {
   "cell_type": "code",
   "execution_count": 80,
   "metadata": {
    "collapsed": false
   },
   "outputs": [
    {
     "data": {
      "text/plain": [
       "16.686251468860164"
      ]
     },
     "execution_count": 80,
     "metadata": {},
     "output_type": "execute_result"
    }
   ],
   "source": [
    "men = passengers.loc[passengers['Sex'] == \"male\"]\n",
    "menCount = len(men)\n",
    "survivedMenCount = len(men.loc[men['Survived'] == 1])\n",
    "survivedMenCount/menCount*100"
   ]
  },
  {
   "cell_type": "markdown",
   "metadata": {},
   "source": [
    "Pro každou třídu vypište kolik pasažérů dané třídy nastoupilo na loď, kolik jich přežilo, a kolik to dělá procent přeživších."
   ]
  },
  {
   "cell_type": "code",
   "execution_count": 81,
   "metadata": {
    "collapsed": false
   },
   "outputs": [
    {
     "data": {
      "text/html": [
       "<div>\n",
       "<table border=\"1\" class=\"dataframe\">\n",
       "  <thead>\n",
       "    <tr style=\"text-align: right;\">\n",
       "      <th></th>\n",
       "      <th>Nastoupilo</th>\n",
       "      <th>Počet přeživších z třídy</th>\n",
       "      <th>Kolik procent z třídy přežilo</th>\n",
       "      <th>Jaká část přeživších patřilo do této třídy</th>\n",
       "    </tr>\n",
       "    <tr>\n",
       "      <th>Třída</th>\n",
       "      <th></th>\n",
       "      <th></th>\n",
       "      <th></th>\n",
       "      <th></th>\n",
       "    </tr>\n",
       "  </thead>\n",
       "  <tbody>\n",
       "    <tr>\n",
       "      <th>1.</th>\n",
       "      <td>322</td>\n",
       "      <td>193</td>\n",
       "      <td>59.937888</td>\n",
       "      <td>42.888889</td>\n",
       "    </tr>\n",
       "    <tr>\n",
       "      <th>2.</th>\n",
       "      <td>279</td>\n",
       "      <td>119</td>\n",
       "      <td>42.652330</td>\n",
       "      <td>26.444444</td>\n",
       "    </tr>\n",
       "    <tr>\n",
       "      <th>3.</th>\n",
       "      <td>711</td>\n",
       "      <td>138</td>\n",
       "      <td>19.409283</td>\n",
       "      <td>30.666667</td>\n",
       "    </tr>\n",
       "  </tbody>\n",
       "</table>\n",
       "</div>"
      ],
      "text/plain": [
       "       Nastoupilo  Počet přeživších z třídy  Kolik procent z třídy přežilo  \\\n",
       "Třída                                                                        \n",
       "1.            322                       193                      59.937888   \n",
       "2.            279                       119                      42.652330   \n",
       "3.            711                       138                      19.409283   \n",
       "\n",
       "       Jaká část přeživších patřilo do této třídy  \n",
       "Třída                                              \n",
       "1.                                      42.888889  \n",
       "2.                                      26.444444  \n",
       "3.                                      30.666667  "
      ]
     },
     "execution_count": 81,
     "metadata": {},
     "output_type": "execute_result"
    }
   ],
   "source": [
    "class1 = passengers.loc[passengers['PClass'] == \"1st\"]\n",
    "class2 = passengers.loc[passengers['PClass'] == \"2nd\"]\n",
    "class3 = passengers.loc[passengers['PClass'] == \"3rd\"]\n",
    "\n",
    "class1Surv = class1.loc[class1['Survived'] == 1]\n",
    "class2Surv = class2.loc[class2['Survived'] == 1]\n",
    "class3Surv = class3.loc[class3['Survived'] == 1]\n",
    "\n",
    "info = pandas.DataFrame([\n",
    "        [\"1.\",len(class1),len(class1Surv),len(class1Surv)/len(class1)*100,len(class1Surv)/survivorsCount*100],\n",
    "        [\"2.\",len(class2),len(class2Surv),len(class2Surv)/len(class2)*100,len(class2Surv)/survivorsCount*100],\n",
    "        [\"3.\",len(class3),len(class3Surv),len(class3Surv)/len(class3)*100,len(class3Surv)/survivorsCount*100]\n",
    "    ])\n",
    "info=info.rename(columns={0:\"Třída\",1:\"Nastoupilo\",2:\"Počet přeživších z třídy\",3:\"Kolik procent z třídy přežilo\",4:\"Jaká část přeživších patřilo do této třídy\"}).set_index([\"Třída\"])\n",
    "info"
   ]
  },
  {
   "cell_type": "markdown",
   "metadata": {
    "collapsed": false
   },
   "source": [
    "Vykreslete graf procenta přeživších podle dekády věku (t.j. procento pro 0-9 let, 10-19 let, atd.)."
   ]
  },
  {
   "cell_type": "code",
   "execution_count": 82,
   "metadata": {
    "collapsed": false
   },
   "outputs": [
    {
     "data": {
      "text/plain": [
       "<matplotlib.axes._subplots.AxesSubplot at 0x7f8673970908>"
      ]
     },
     "execution_count": 82,
     "metadata": {},
     "output_type": "execute_result"
    },
    {
     "data": {
      "image/png": "[encoded data removed]",
      "text/plain": [
       "<matplotlib.figure.Figure at 0x7f86739bafd0>"
      ]
     },
     "metadata": {},
     "output_type": "display_data"
    }
   ],
   "source": [
    "survivorsAge = survivors.groupby(survivors['Age']//10).count()\n",
    "survivorsAge = survivorsAge['Name']\n",
    "#survivorsAge\n",
    "survivorsAge.plot.pie(title=\"Survivors by age decades\",labels=['0-9','10-19','20-29','30-39','40-49','50-59','60-69'])"
   ]
  },
  {
   "cell_type": "markdown",
   "metadata": {
    "collapsed": false
   },
   "source": [
    "Závisí na sobě třída a věk pasažéra? Jak? Vykreslete graf(y), které tuto závislost znázorňují."
   ]
  },
  {
   "cell_type": "code",
   "execution_count": 84,
   "metadata": {
    "collapsed": false
   },
   "outputs": [
    {
     "data": {
      "text/html": [
       "<div>\n",
       "<table border=\"1\" class=\"dataframe\">\n",
       "  <thead>\n",
       "    <tr style=\"text-align: right;\">\n",
       "      <th></th>\n",
       "      <th>PClass</th>\n",
       "      <th>Age</th>\n",
       "    </tr>\n",
       "  </thead>\n",
       "  <tbody>\n",
       "    <tr>\n",
       "      <th>PClass</th>\n",
       "      <td>1.000000</td>\n",
       "      <td>-0.414121</td>\n",
       "    </tr>\n",
       "    <tr>\n",
       "      <th>Age</th>\n",
       "      <td>-0.414121</td>\n",
       "      <td>1.000000</td>\n",
       "    </tr>\n",
       "  </tbody>\n",
       "</table>\n",
       "</div>"
      ],
      "text/plain": [
       "          PClass       Age\n",
       "PClass  1.000000 -0.414121\n",
       "Age    -0.414121  1.000000"
      ]
     },
     "execution_count": 84,
     "metadata": {},
     "output_type": "execute_result"
    },
    {
     "data": {
      "image/png": "[encoded data removed]",
      "text/plain": [
       "<matplotlib.figure.Figure at 0x7f86739a8a20>"
      ]
     },
     "metadata": {},
     "output_type": "display_data"
    }
   ],
   "source": [
    "passengersClass = passengers.replace(\"1st\",1).replace(\"2nd\",2).replace(\"3rd\",3)\n",
    "passengersClass = passengersClass[['PClass','Age']]\n",
    "passengersClass = passengersClass.dropna()\n",
    "passengersClass.plot(y='Age',x='PClass', kind='scatter')\n",
    "passengersClass.astype(float).corr()"
   ]
  },
  {
   "cell_type": "markdown",
   "metadata": {
    "collapsed": true
   },
   "source": [
    "Z vypočteného korelačního koeficientu vidíme, že mezi věkem a třídou závislost existuje. Korelační koeficient vyšel přibližně -0.4, tedy středně velká protizávislost. S roustoucím věkem tedy klesá třída (ve smyslu čím starší pasažéři, tím lepší třída). Vykreslený scatter graf tuto myšlenku také podporuje."
   ]
  }
 ],
 "metadata": {
  "kernelspec": {
   "display_name": "Python 3",
   "language": "python",
   "name": "python3"
  },
  "language_info": {
   "codemirror_mode": {
    "name": "ipython",
    "version": 3
   },
   "file_extension": ".py",
   "mimetype": "text/x-python",
   "name": "python",
   "nbconvert_exporter": "python",
   "pygments_lexer": "ipython3",
   "version": "3.5.2"
  }
 },
 "nbformat": 4,
 "nbformat_minor": 1
}
